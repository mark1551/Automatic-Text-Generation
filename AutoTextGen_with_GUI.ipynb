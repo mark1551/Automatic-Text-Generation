{
 "cells": [
  {
   "cell_type": "markdown",
   "metadata": {
    "id": "SilLTsmNFFfz"
   },
   "source": [
    "Token Dictionary Creation"
   ]
  },
  {
   "cell_type": "code",
   "execution_count": 1,
   "metadata": {
    "id": "1dD2pQFIqwcY"
   },
   "outputs": [],
   "source": [
    "def build_dict():\n",
    "  \n",
    "  import string\n",
    "  import requests\n",
    "  \n",
    "  # Corpus -> The Project Gutenberg EBook of The Art Of Writing & Speaking The English Language, by Sherwin Cody\n",
    "  import_dataset=requests.get('http://www.gutenberg.org/files/19719/19719-0.txt')\n",
    "\n",
    "  data = import_dataset.text.split('\\n')\n",
    "  data=\" \".join(data)\n",
    "\n",
    "  #Cleaning the text and separating each word into a list\n",
    "  tokens = data.split()\n",
    "  table = str.maketrans('', '', string.punctuation)\n",
    "  tokens = [w.translate(table) for w in tokens]\n",
    "  tokens = [word.lower() for word in tokens if word.isalpha()]\n",
    "\n",
    "  #Length of training sequence one greater than input sequence\n",
    "  length = seq_length + 1\n",
    "  lines= []\n",
    "\n",
    "  for i in range(length, len(tokens)+1):\n",
    "    seq = tokens[i-length:i]\n",
    "    line = ' '.join(seq)\n",
    "    lines.append(line)\n",
    "\n",
    "  import numpy as np\n",
    "  from tensorflow.keras.preprocessing.text import Tokenizer\n",
    "\n",
    "  tokenizer= Tokenizer()\n",
    "  tokenizer.fit_on_texts(lines)\n",
    "  sequences = tokenizer.texts_to_sequences(lines)\n",
    "\n",
    "  token_dict=pd.DataFrame(tokenizer.word_index.values(),tokenizer.word_index.keys(),['value'])\n",
    "  token_dict.to_csv('TD.csv')\n",
    "  return token_dict"
   ]
  },
  {
   "cell_type": "markdown",
   "metadata": {
    "id": "qyZB_kgaE4yC"
   },
   "source": [
    "Building, Training and Saving the model"
   ]
  },
  {
   "cell_type": "code",
   "execution_count": 2,
   "metadata": {
    "id": "Snn1h-76YBNT"
   },
   "outputs": [],
   "source": [
    "def built_model():\n",
    "  from tensorflow.keras.utils import to_categorical\n",
    "  from tensorflow.keras.models import Sequential\n",
    "  from tensorflow.keras.layers import Dense, LSTM, Embedding\n",
    "  \n",
    "  #Preparaton of dataset for training\n",
    "  sequences = np.array(sequences)\n",
    "  X, y = sequences[:, :-1], sequences[:,-1]\n",
    "  vocab_size = len(tokenizer.word_index)+1\n",
    "  y = to_categorical(y, num_classes=vocab_size)\n",
    "\n",
    "  #Building the model\n",
    "  model = Sequential()\n",
    "  model.add(Embedding(vocab_size, 50, input_length=seq_length))\n",
    "  model.add(LSTM(100, return_sequences = True))\n",
    "  model.add(LSTM(100))\n",
    "  model.add(Dense(100, activation='relu'))\n",
    "  model.add(Dense(vocab_size, activation='softmax')) \n",
    "  model.compile(loss = 'categorical_crossentropy', optimizer = 'adam', metrics = 'accuracy')\n",
    "\n",
    "  #Training and Saving the model\n",
    "  model.fit(X, y, batch_size=256, epochs=200)\n",
    "  model.save('ATG.h5')\n",
    "  return model"
   ]
  },
  {
   "cell_type": "markdown",
   "metadata": {
    "id": "pmz3KHG2Elt8"
   },
   "source": [
    "Getting Token Dictionary and Model Ready"
   ]
  },
  {
   "cell_type": "code",
   "execution_count": 3,
   "metadata": {
    "id": "QYyypJn3zBP2"
   },
   "outputs": [],
   "source": [
    "import pandas as pd\n",
    "from tensorflow.keras.models import load_model\n",
    "from tensorflow.keras.preprocessing.sequence import pad_sequences\n",
    "\n",
    "#Length of input sequence\n",
    "seq_length = 3\n",
    "\n",
    "try:\n",
    "  model = load_model('ATG.h5')\n",
    "except OSError:\n",
    "  token_dict = build_dict()\n",
    "  model = built_model()\n",
    "\n",
    "try:\n",
    "  token_dict = pd.read_csv('TD.csv')\n",
    "except FileNotFoundError:\n",
    "  token_dict = build_dict()"
   ]
  },
  {
   "cell_type": "markdown",
   "metadata": {
    "id": "BcTuYj_JEdA7"
   },
   "source": [
    "Prediction Function"
   ]
  },
  {
   "cell_type": "code",
   "execution_count": 4,
   "metadata": {
    "id": "fskdH-S6YO6b"
   },
   "outputs": [],
   "source": [
    "def prediction(input_text):\n",
    "  predicted_word = []\n",
    "  encoded = [token_dict.value[w.lower()] for w in seed_text.split() if w.isalpha()]\n",
    "  encoded = pad_sequences([encoded], maxlen = input_length)\n",
    "  y_predict=model.predict(encoded)[0]\n",
    "  for _ in range(5):\n",
    "    if y_predict.max()<0.08:\n",
    "      break\n",
    "    y_maxp=y_predict.argmax()\n",
    "    predicted_word.append(token_dict.index[y_maxp-1])\n",
    "    y_predict[y_maxp]=0\n",
    "  return predicted_word"
   ]
  },
  {
   "cell_type": "markdown",
   "metadata": {
    "id": "PlJqujU0FP_K"
   },
   "source": [
    "Running the program with GUI"
   ]
  },
  {
   "cell_type": "code",
   "execution_count": 5,
   "metadata": {
    "id": "Tadk2EP14zkY"
   },
   "outputs": [],
   "source": [
    "def start():\n",
    "\n",
    "  root=Tk()\n",
    "  root.geometry('830x500')\n",
    "  root.config(bg='grey')\n",
    "  def close(e):\n",
    "      root.destroy()\n",
    "  Label(root,text=' '*10,font='Candara 45 bold',bg='grey').grid(row=0)\n",
    "  Label(root,text=' '*10+'Project :',font='Candara 20 bold',bg='grey').grid(row=3,column=0,stick='w')\n",
    "  Label(root,text=' '*10+'Automatic Text Generation',font='Candara 20 bold',bg='grey').grid(row=4,column=0,stick='e')\n",
    "  Label(root,text=' '*10+'Developed By :',font='Candara 18 bold',fg='blue',bg='grey').grid(row=5,column=1,stick='sw')\n",
    "  Label(root,text='Vaibhav Jain (181B232)',font='Candara 17 italic',fg='blue',bg='grey').grid(row=6,column=1,stick='e')\n",
    "  Label(root,text='Vibhum Tripathi (181B237)',font='Candara 17 italic',fg='blue',bg='grey').grid(row=7,column=1,stick='e')\n",
    "  Label(root,text='Mohit Sharma (181B129)',font='Candara 17 italic',fg='blue',bg='grey').grid(row=8,column=1,stick='e')\n",
    "  Label(root,text=' '*10+'----'*16,font='Candara 17',fg='blue',bg='grey').grid(row=9,column=1)\n",
    "  Label(root,text=' '*10+'Project Guide :',font='Candara 18 bold',fg='blue',bg='grey').grid(row=10,column=1,stick='w')\n",
    "  Label(root,text='Dr. Ajay Kumar',font='Candara 17 italic',fg='blue',bg='grey').grid(row=11,column=1,stick='e')\n",
    "\n",
    "  root.bind('<Motion>',close)\n",
    "  root.mainloop()"
   ]
  },
  {
   "cell_type": "code",
   "execution_count": 6,
   "metadata": {
    "id": "Z5XQy20K4zkY"
   },
   "outputs": [],
   "source": [
    "def run_GUI():\n",
    "  \n",
    "  root=Tk()                                     \n",
    "  root.geometry('900x300')                       \n",
    "  root.config(bg='royal blue')\n",
    "  root.title('Automatic Text Generation: Test-box')\n",
    "  l1=Label(root,text='Automatic Text Generation: Test-box',font='Candara 18 bold',bg='royal blue')\n",
    "  l1.pack()\n",
    "\n",
    "  present = False                             # Check variable for listbox\n",
    "  lb=Listbox()                                   \n",
    "\n",
    "  def put(event):                             # Function to put selected word from...\n",
    "      global input_box                        # predicted words list into entry bar\n",
    "      cs = lb.curselection()\n",
    "      input_box.insert(END,lb.get(cs))\n",
    "      input_box.insert(END,' ')\n",
    "      lb.destroy()\n",
    "      output()\n",
    "\n",
    "  def listing(predicted):                    # Function to print list of predicted words\n",
    "      global present\n",
    "      global lb\n",
    "      present = True\n",
    "      lb = Listbox(root,font='Candara 15',width=15,height=len(predicted))\n",
    "      lb.bind('<Double-1>', put)\n",
    "      lb.pack()\n",
    "      for word in predicted:\n",
    "          lb.insert(END,word)\n",
    "      \n",
    "  def output():                                  \n",
    "      global input_box\n",
    "      input_text=str(input_box.get())             \n",
    "      predicted=prediction(input_text)     \n",
    "      if len(predicted) > 0 :\n",
    "          listing(predicted)                     \n",
    "\n",
    "  def keypress(e):\n",
    "      global present\n",
    "      global lb\n",
    "      input_box.insert(END,str(e.char))\n",
    "      if e.char == ' ' and present == False :          # Prediction function called after <space>\n",
    "          output()\n",
    "      elif e.char == ' ' and present == True :\n",
    "          None\n",
    "      elif present == True :\n",
    "          present = False\n",
    "          lb.destroy()\n",
    "          \n",
    "  input_box=Entry(root,width=75,font='Candara 15')\n",
    "  input_box.pack()\n",
    "  root.bind(\"<KeyPress>\", keypress)\n",
    "\n",
    "  root.mainloop()"
   ]
  },
  {
   "cell_type": "code",
   "execution_count": 7,
   "metadata": {
    "id": "g4DQnrF2D7QO"
   },
   "outputs": [
    {
     "name": "stderr",
     "output_type": "stream",
     "text": [
      "Exception in Tkinter callback\n",
      "Traceback (most recent call last):\n",
      "  File \"c:\\users\\vibhum tripathi\\appdata\\local\\programs\\python\\python38\\lib\\tkinter\\__init__.py\", line 1883, in __call__\n",
      "    return self.func(*args)\n",
      "  File \"<ipython-input-6-1957ed413a40>\", line 46, in keypress\n",
      "    elif present == True :\n",
      "NameError: name 'present' is not defined\n",
      "Exception in Tkinter callback\n",
      "Traceback (most recent call last):\n",
      "  File \"c:\\users\\vibhum tripathi\\appdata\\local\\programs\\python\\python38\\lib\\tkinter\\__init__.py\", line 1883, in __call__\n",
      "    return self.func(*args)\n",
      "  File \"<ipython-input-6-1957ed413a40>\", line 46, in keypress\n",
      "    elif present == True :\n",
      "NameError: name 'present' is not defined\n",
      "Exception in Tkinter callback\n",
      "Traceback (most recent call last):\n",
      "  File \"c:\\users\\vibhum tripathi\\appdata\\local\\programs\\python\\python38\\lib\\tkinter\\__init__.py\", line 1883, in __call__\n",
      "    return self.func(*args)\n",
      "  File \"<ipython-input-6-1957ed413a40>\", line 46, in keypress\n",
      "    elif present == True :\n",
      "NameError: name 'present' is not defined\n"
     ]
    }
   ],
   "source": [
    "from tkinter import *\n",
    "start()\n",
    "run_GUI()"
   ]
  }
 ],
 "metadata": {
  "accelerator": "GPU",
  "colab": {
   "collapsed_sections": [],
   "name": "AutoTextGen with GUI.ipynb",
   "provenance": []
  },
  "kernelspec": {
   "display_name": "Python 3",
   "language": "python",
   "name": "python3"
  },
  "language_info": {
   "codemirror_mode": {
    "name": "ipython",
    "version": 3
   },
   "file_extension": ".py",
   "mimetype": "text/x-python",
   "name": "python",
   "nbconvert_exporter": "python",
   "pygments_lexer": "ipython3",
   "version": "3.8.6"
  }
 },
 "nbformat": 4,
 "nbformat_minor": 1
}
